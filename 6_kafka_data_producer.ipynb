{
 "cells": [
  {
   "cell_type": "markdown",
   "metadata": {},
   "source": [
    "# Importing relevant libraries  "
   ]
  },
  {
   "cell_type": "code",
   "execution_count": 2,
   "metadata": {},
   "outputs": [],
   "source": [
    "from time import sleep\n",
    "from json import dumps\n",
    "from kafka import KafkaProducer\n",
    "import pandas as pd"
   ]
  },
  {
   "cell_type": "markdown",
   "metadata": {},
   "source": [
    "# Data reader from simulated file generated via simulator. Filename needs to be changed for each instance of producer."
   ]
  },
  {
   "cell_type": "code",
   "execution_count": 3,
   "metadata": {},
   "outputs": [
    {
     "data": {
      "text/html": [
       "<div>\n",
       "<style scoped>\n",
       "    .dataframe tbody tr th:only-of-type {\n",
       "        vertical-align: middle;\n",
       "    }\n",
       "\n",
       "    .dataframe tbody tr th {\n",
       "        vertical-align: top;\n",
       "    }\n",
       "\n",
       "    .dataframe thead th {\n",
       "        text-align: right;\n",
       "    }\n",
       "</style>\n",
       "<table border=\"1\" class=\"dataframe\">\n",
       "  <thead>\n",
       "    <tr style=\"text-align: right;\">\n",
       "      <th></th>\n",
       "      <th>Langitude</th>\n",
       "      <th>Battery_Level</th>\n",
       "      <th>Latitude</th>\n",
       "      <th>Battery_Cycle_No</th>\n",
       "      <th>Location</th>\n",
       "      <th>u_id</th>\n",
       "      <th>Battery_Type</th>\n",
       "      <th>Battery_Status</th>\n",
       "      <th>User_Type</th>\n",
       "      <th>DateTime</th>\n",
       "      <th>full_name</th>\n",
       "    </tr>\n",
       "  </thead>\n",
       "  <tbody>\n",
       "    <tr>\n",
       "      <th>0</th>\n",
       "      <td>-87.667165</td>\n",
       "      <td>41</td>\n",
       "      <td>41.903507</td>\n",
       "      <td>1</td>\n",
       "      <td>CDOT</td>\n",
       "      <td>1</td>\n",
       "      <td>bat1</td>\n",
       "      <td>2</td>\n",
       "      <td>3</td>\n",
       "      <td>01-01-2018 08:00:00</td>\n",
       "      <td>user000001</td>\n",
       "    </tr>\n",
       "    <tr>\n",
       "      <th>1</th>\n",
       "      <td>-122.912560</td>\n",
       "      <td>29</td>\n",
       "      <td>49.275361</td>\n",
       "      <td>1</td>\n",
       "      <td>SFU</td>\n",
       "      <td>2</td>\n",
       "      <td>bat1</td>\n",
       "      <td>2</td>\n",
       "      <td>1</td>\n",
       "      <td>01-01-2018 08:00:00</td>\n",
       "      <td>user000002</td>\n",
       "    </tr>\n",
       "    <tr>\n",
       "      <th>2</th>\n",
       "      <td>-122.912560</td>\n",
       "      <td>36</td>\n",
       "      <td>49.275361</td>\n",
       "      <td>1</td>\n",
       "      <td>SFU</td>\n",
       "      <td>3</td>\n",
       "      <td>bat1</td>\n",
       "      <td>2</td>\n",
       "      <td>2</td>\n",
       "      <td>01-01-2018 08:00:00</td>\n",
       "      <td>user000003</td>\n",
       "    </tr>\n",
       "    <tr>\n",
       "      <th>3</th>\n",
       "      <td>-87.667165</td>\n",
       "      <td>34</td>\n",
       "      <td>41.903507</td>\n",
       "      <td>1</td>\n",
       "      <td>CDOT</td>\n",
       "      <td>4</td>\n",
       "      <td>bat1</td>\n",
       "      <td>2</td>\n",
       "      <td>3</td>\n",
       "      <td>01-01-2018 08:00:00</td>\n",
       "      <td>user000004</td>\n",
       "    </tr>\n",
       "    <tr>\n",
       "      <th>4</th>\n",
       "      <td>-87.667165</td>\n",
       "      <td>34</td>\n",
       "      <td>41.903507</td>\n",
       "      <td>1</td>\n",
       "      <td>CDOT</td>\n",
       "      <td>5</td>\n",
       "      <td>bat1</td>\n",
       "      <td>2</td>\n",
       "      <td>3</td>\n",
       "      <td>01-01-2018 08:00:00</td>\n",
       "      <td>user000005</td>\n",
       "    </tr>\n",
       "  </tbody>\n",
       "</table>\n",
       "</div>"
      ],
      "text/plain": [
       "    Langitude  Battery_Level   Latitude  Battery_Cycle_No Location  u_id  \\\n",
       "0  -87.667165             41  41.903507                 1     CDOT     1   \n",
       "1 -122.912560             29  49.275361                 1      SFU     2   \n",
       "2 -122.912560             36  49.275361                 1      SFU     3   \n",
       "3  -87.667165             34  41.903507                 1     CDOT     4   \n",
       "4  -87.667165             34  41.903507                 1     CDOT     5   \n",
       "\n",
       "  Battery_Type  Battery_Status  User_Type             DateTime   full_name  \n",
       "0         bat1               2          3  01-01-2018 08:00:00  user000001  \n",
       "1         bat1               2          1  01-01-2018 08:00:00  user000002  \n",
       "2         bat1               2          2  01-01-2018 08:00:00  user000003  \n",
       "3         bat1               2          3  01-01-2018 08:00:00  user000004  \n",
       "4         bat1               2          3  01-01-2018 08:00:00  user000005  "
      ]
     },
     "execution_count": 3,
     "metadata": {},
     "output_type": "execute_result"
    }
   ],
   "source": [
    "file = \"C:\\SFU_Courses\\iot_pred\\maintenance_prediction_iot\\data\\ final.csv\"\n",
    "file_df = pd.read_csv(file)\n",
    "file_df.head()"
   ]
  },
  {
   "cell_type": "markdown",
   "metadata": {},
   "source": [
    "# Connecting to kafka cluster and listening to configured topic."
   ]
  },
  {
   "cell_type": "code",
   "execution_count": 4,
   "metadata": {},
   "outputs": [],
   "source": [
    "producer = KafkaProducer(bootstrap_servers=['207.23.196.89:9092'])\n",
    "topic = 'battery-1'"
   ]
  },
  {
   "cell_type": "markdown",
   "metadata": {},
   "source": [
    "# Start producer based on specified frequency, all rows from loaded file is streamed at a certain frequency rate. "
   ]
  },
  {
   "cell_type": "code",
   "execution_count": null,
   "metadata": {},
   "outputs": [],
   "source": [
    "freq = 5\n",
    "\n",
    "for index, row in file_df.iterrows(): \n",
    "    entry =  str(row['Langitude']) + ',' + str(row['Battery_Level']) + ',' + str(row['Latitude']) + ',' + str(row['Battery_Cycle_No']) + ',' + str(row['Location']) + ',' + str(row['u_id']) + ',' + str(row['Battery_Type']) + ',' + str(row['Battery_Status']) + ',' + str(row['User_Type']) + ',' + str(row['DateTime']) + ',' + str(row['full_name'])\n",
    "    producer.send(topic, entry.encode('ascii'))\n",
    "    sleep(freq)"
   ]
  },
  {
   "cell_type": "code",
   "execution_count": null,
   "metadata": {},
   "outputs": [],
   "source": []
  }
 ],
 "metadata": {
  "kernelspec": {
   "display_name": "Python 3",
   "language": "python",
   "name": "python3"
  },
  "language_info": {
   "codemirror_mode": {
    "name": "ipython",
    "version": 3
   },
   "file_extension": ".py",
   "mimetype": "text/x-python",
   "name": "python",
   "nbconvert_exporter": "python",
   "pygments_lexer": "ipython3",
   "version": "3.6.7"
  },
  "varInspector": {
   "cols": {
    "lenName": 16,
    "lenType": 16,
    "lenVar": 40
   },
   "kernels_config": {
    "python": {
     "delete_cmd_postfix": "",
     "delete_cmd_prefix": "del ",
     "library": "var_list.py",
     "varRefreshCmd": "print(var_dic_list())"
    },
    "r": {
     "delete_cmd_postfix": ") ",
     "delete_cmd_prefix": "rm(",
     "library": "var_list.r",
     "varRefreshCmd": "cat(var_dic_list()) "
    }
   },
   "types_to_exclude": [
    "module",
    "function",
    "builtin_function_or_method",
    "instance",
    "_Feature"
   ],
   "window_display": false
  }
 },
 "nbformat": 4,
 "nbformat_minor": 2
}
