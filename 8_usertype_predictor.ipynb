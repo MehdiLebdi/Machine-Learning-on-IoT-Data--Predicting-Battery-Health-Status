{
 "cells": [
  {
   "cell_type": "code",
   "execution_count": 1,
   "metadata": {},
   "outputs": [],
   "source": [
    "import sys\n",
    "import random\n",
    "from random import randrange\n",
    "import configparser\n",
    "import os\n",
    "import pandas as pd\n",
    "import numpy as np\n",
    "from datetime import datetime, timedelta\n",
    "import json\n",
    "import csv\n",
    "from sklearn.externals import joblib\n",
    "\n"
   ]
  },
  {
   "cell_type": "code",
   "execution_count": 2,
   "metadata": {},
   "outputs": [],
   "source": [
    "def load_model_predict_usertype(user_data,bat_type,datafolder_model):\n",
    "    '''\n",
    "    Load and evaluate the models\n",
    "    '''\n",
    "    model_path = '{}\\\\user{}_model.sav'.format(datafolder_model,str(bat_type))\n",
    "    knn = joblib.load(model_path) \n",
    "    #Train the model\n",
    "    predictions = knn.predict(user_data)\n",
    "    return predictions\n",
    "\n",
    "def retrieve_user_history(u_id, bat_type, datafolder_ge):\n",
    "    data_ge_path = '{}\\\\ML_UserType_data_Bat{}.csv'.format(datafolder_ge,str(bat_type))\n",
    "    bat_df = pd.read_csv(data_ge_path)\n",
    "    user_history = bat_df[bat_df.u_id==u_id]\n",
    "#     print('actual type',user_history.u_type.iloc[0])\n",
    "    user_history = user_history.drop(columns=['u_type','u_id'])\n",
    "    return user_history\n",
    "\n",
    "def retrieve_users_bat_type(u_id, datafolder_ge):\n",
    "    data_ge_path = '{}\\\\user_list.csv'.format(datafolder_ge)\n",
    "    user_df = pd.read_csv(data_ge_path)\n",
    "    bat_type = user_df[user_df['u_id'] ==u_id].Battery_Type.iloc[0]\n",
    "    bat_type = int(bat_type.strip('bat'))\n",
    "    return bat_type\n",
    "\n",
    "def read_config():\n",
    "    config = configparser.ConfigParser()\n",
    "    config_fileName = ('config.ini')\n",
    "    config.read(config_fileName)\n",
    "    datafolder_model =config['MODEL']['MODEL_FOLDER']\t\n",
    "    datafolder_ge =config['DATASET']['DATA_FOLDER_GE']\n",
    "    return datafolder_model, datafolder_ge\n",
    "\n",
    "\n",
    "def main(arg):\n",
    "    datafolder_model, datafolder_ge = read_config()\n",
    "    user_id = arg\n",
    "    bat_type = retrieve_users_bat_type(user_id, datafolder_ge)\n",
    "    user_data = retrieve_user_history(user_id, bat_type, datafolder_ge)\n",
    "    user_type = load_model_predict_usertype(user_data, bat_type, datafolder_model)\n",
    "    if user_type== 1:\n",
    "        utype='LOW'\n",
    "    elif user_type == 2:\n",
    "        utype='MID'\n",
    "    else:\n",
    "        utype='HIGH'\n",
    "    return utype\n"
   ]
  },
  {
   "cell_type": "code",
   "execution_count": 3,
   "metadata": {},
   "outputs": [],
   "source": [
    "### retrieve ML model prediction of the user type"
   ]
  },
  {
   "cell_type": "code",
   "execution_count": 4,
   "metadata": {},
   "outputs": [
    {
     "name": "stdout",
     "output_type": "stream",
     "text": [
      "MID\n"
     ]
    }
   ],
   "source": [
    "\n",
    "if __name__ == \"__main__\":\n",
    "#     main(sys.argv[1])\n",
    "    k = main(1700)\n",
    "    print(k)\n"
   ]
  },
  {
   "cell_type": "code",
   "execution_count": null,
   "metadata": {},
   "outputs": [],
   "source": []
  }
 ],
 "metadata": {
  "kernelspec": {
   "display_name": "Python 3",
   "language": "python",
   "name": "python3"
  },
  "language_info": {
   "codemirror_mode": {
    "name": "ipython",
    "version": 3
   },
   "file_extension": ".py",
   "mimetype": "text/x-python",
   "name": "python",
   "nbconvert_exporter": "python",
   "pygments_lexer": "ipython3",
   "version": "3.6.8"
  }
 },
 "nbformat": 4,
 "nbformat_minor": 2
}
